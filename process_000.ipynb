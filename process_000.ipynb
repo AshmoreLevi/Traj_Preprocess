{
 "cells": [
  {
   "cell_type": "code",
   "execution_count": 1,
   "metadata": {},
   "outputs": [],
   "source": [
    "# jupyter中使用hyperparams需要添加\n",
    "import sys\n",
    "sys.argv = ['run.py']"
   ]
  },
  {
   "cell_type": "markdown",
   "metadata": {},
   "source": [
    "根据经纬度映射出区域号.\n",
    "- xlim:经度范围\n",
    "- ylim:纬度范围"
   ]
  },
  {
   "cell_type": "code",
   "execution_count": 2,
   "metadata": {},
   "outputs": [
    {
     "data": {
      "text/plain": [
       "203944"
      ]
     },
     "execution_count": 2,
     "metadata": {},
     "output_type": "execute_result"
    }
   ],
   "source": [
    "def get_regionID(longitude, latitude):\n",
    "    xlim = [111.55, 113.37]\n",
    "    ylim = [35.12, 36.3]\n",
    "    grid_length = 0.001\n",
    "    grid_width = 0.001\n",
    "    regionID = (xlim[1] - xlim[0]) // grid_length * (latitude - ylim[0]) // grid_width + (\n",
    "            longitude - xlim[0]) // grid_length + 1\n",
    "    return int(regionID)\n",
    "\n",
    "get_regionID(111.653, 35.232)"
   ]
  },
  {
   "cell_type": "markdown",
   "metadata": {},
   "source": [
    "轨迹过滤：过滤掉timeslots小于m的轨迹，过滤掉总条数少于5条的轨迹。"
   ]
  },
  {
   "cell_type": "code",
   "execution_count": 3,
   "metadata": {},
   "outputs": [],
   "source": [
    "import os\n",
    "file_list = sorted(os.listdir('./data/Geolife/Data'))\n",
    "file_num = len(file_list)\n",
    "file_list = file_list[1:]\n",
    "\n",
    "\n",
    "for user_id in file_list:\n",
    "    u_path = os.getcwd() + \"/data\" + \"/Geolife\" + \"/Data/\" + user_id + \"/Trajectory\"\n",
    "\n",
    "\n",
    "\n",
    "# path = os.getcwd() + \"/data\" + \"/Geolife\" + \"/Data\" + \"/001\" + \"/Trajectory\"\n",
    "# print(path)\n",
    "# user_path = os.scandir(path)\n",
    "# print(user_path)"
   ]
  },
  {
   "cell_type": "code",
   "execution_count": 4,
   "metadata": {},
   "outputs": [],
   "source": [
    "output_path = './Results/size%d' % (1)\n",
    "if not os.path.exists(output_path):\n",
    "    # 目录不存在，进行创建操作\n",
    "    os.makedirs(output_path)\n",
    "\n",
    "  "
   ]
  },
  {
   "cell_type": "code",
   "execution_count": 1,
   "metadata": {},
   "outputs": [
    {
     "ename": "ModuleNotFoundError",
     "evalue": "No module named 'datatime'",
     "output_type": "error",
     "traceback": [
      "\u001b[0;31m---------------------------------------------------------------------------\u001b[0m",
      "\u001b[0;31mModuleNotFoundError\u001b[0m                       Traceback (most recent call last)",
      "\u001b[0;32m<ipython-input-1-9c3b6d6179f8>\u001b[0m in \u001b[0;36m<module>\u001b[0;34m\u001b[0m\n\u001b[1;32m      1\u001b[0m \u001b[0;32mimport\u001b[0m \u001b[0mpandas\u001b[0m \u001b[0;32mas\u001b[0m \u001b[0mpd\u001b[0m\u001b[0;34m\u001b[0m\u001b[0;34m\u001b[0m\u001b[0m\n\u001b[0;32m----> 2\u001b[0;31m \u001b[0;32mimport\u001b[0m \u001b[0mdatatime\u001b[0m\u001b[0;34m\u001b[0m\u001b[0;34m\u001b[0m\u001b[0m\n\u001b[0m\u001b[1;32m      3\u001b[0m \u001b[0;34m\u001b[0m\u001b[0m\n\u001b[1;32m      4\u001b[0m \u001b[0mtime0\u001b[0m \u001b[0;34m=\u001b[0m \u001b[0mdatetime\u001b[0m\u001b[0;34m.\u001b[0m\u001b[0mnow\u001b[0m\u001b[0;34m(\u001b[0m\u001b[0;34m)\u001b[0m\u001b[0;34m\u001b[0m\u001b[0;34m\u001b[0m\u001b[0m\n\u001b[1;32m      5\u001b[0m \u001b[0mstart_time\u001b[0m \u001b[0;34m=\u001b[0m \u001b[0mdatetime\u001b[0m\u001b[0;34m.\u001b[0m\u001b[0mnow\u001b[0m\u001b[0;34m(\u001b[0m\u001b[0;34m)\u001b[0m\u001b[0;34m\u001b[0m\u001b[0;34m\u001b[0m\u001b[0m\n",
      "\u001b[0;31mModuleNotFoundError\u001b[0m: No module named 'datatime'"
     ]
    }
   ],
   "source": [
    "import pandas as pd\n",
    "import datatime\n",
    "\n",
    "time0 = datetime.now()\n",
    "start_time = datetime.now()\n",
    "result_tmp = []\n",
    "data_tmp = pd.DataFrame()\n",
    "data_all = pd.DataFrame()  \n",
    "# data_all.columns=['UID','timestamp','longitude','latitude']\n",
    "for filename in file_list:\n",
    "    user_path = \"./data\" + \"/Geolife\" + \"/Data/\" + user_id + \"/Trajectory\"\n",
    "    f = open(user_path, 'r+')\n",
    "    for line in f.readlines()[6::10]:  # readlines以列表输出文件内容\n",
    "        line = line.strip().split(\",\")\n",
    "        print(line)\n",
    "    f.close()\n",
    "    print(filename + 'is read.')\n",
    "end_time = datetime.now()"
   ]
  }
 ],
 "metadata": {
  "kernelspec": {
   "display_name": "Python 3.6.13 ('AttnMove')",
   "language": "python",
   "name": "python3"
  },
  "language_info": {
   "codemirror_mode": {
    "name": "ipython",
    "version": 3
   },
   "file_extension": ".py",
   "mimetype": "text/x-python",
   "name": "python",
   "nbconvert_exporter": "python",
   "pygments_lexer": "ipython3",
   "version": "3.6.13"
  },
  "orig_nbformat": 4,
  "vscode": {
   "interpreter": {
    "hash": "e2df17bf388c13c46faedee01ce940fe024e6ed539f00edac5b19515bb5331c9"
   }
  }
 },
 "nbformat": 4,
 "nbformat_minor": 2
}
