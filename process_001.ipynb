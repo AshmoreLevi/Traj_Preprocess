{
 "cells": [
  {
   "cell_type": "code",
   "execution_count": 1,
   "metadata": {},
   "outputs": [],
   "source": [
    "import pandas as pd\n",
    "from datetime import datetime\n",
    "import argparse\n",
    "import os"
   ]
  },
  {
   "cell_type": "code",
   "execution_count": 2,
   "metadata": {},
   "outputs": [
    {
     "name": "stdout",
     "output_type": "stream",
     "text": [
      "converting delimiters...\n"
     ]
    }
   ],
   "source": [
    "output_path = './Results/size%d' % (1)\n",
    "if not os.path.exists(output_path):\n",
    "    # 目录不存在，进行创建操作\n",
    "    os.makedirs(output_path)\n",
    "\n",
    "startTime = datetime.now()\n",
    "print(\"converting delimiters...\")\n",
    "dropped_pos = pd.read_csv(output_path + '/dropped_pos.txt',sep=\"\\t\")"
   ]
  },
  {
   "cell_type": "code",
   "execution_count": 3,
   "metadata": {},
   "outputs": [],
   "source": [
    "#把采样点的分隔符从\\t换成' '\n",
    "dropped_pos.iloc[:,2:].to_csv(output_path + '/position.txt',sep=' ',index=False)\n",
    "dropped_pos.iloc[:,0:2].to_csv(output_path + '/uid_and_date.txt',sep='\\t',index=False)"
   ]
  },
  {
   "cell_type": "code",
   "execution_count": 4,
   "metadata": {},
   "outputs": [
    {
     "name": "stdout",
     "output_type": "stream",
     "text": [
      "converting completed.\n",
      "Total time: 43.599s.\n"
     ]
    }
   ],
   "source": [
    "#合并txt\n",
    "file1path = output_path + '/uid_and_date.txt'\n",
    "file2path = output_path + '/position.txt'\n",
    "\n",
    "file_1 = open(file1path,'r')\n",
    "file_2 = open(file2path,'r')\n",
    "\n",
    "list1 = []\n",
    "for line in file_1.readlines():\n",
    "    ss = line.strip()\n",
    "    list1.append(ss)\n",
    "file_1.close()\n",
    "\n",
    "list2 = []\n",
    "for line in file_2.readlines():\n",
    "    ss = line.strip()\n",
    "    list2.append(ss)\n",
    "file_2.close()\n",
    "\n",
    "file_new = open(\"./Results/result%d.txt\"%(1),'w')\n",
    "for i in range(1,len(list1)):\n",
    "    sline = list1[i] + '\\t' + list2[i]\n",
    "    file_new.write(sline+'\\n')\n",
    "file_new.close()\n",
    "\n",
    "endTime = datetime.now()\n",
    "print(\"converting completed.\")\n",
    "print(\"Total time:\", str((endTime-startTime))[5:11]+'s.')"
   ]
  }
 ],
 "metadata": {
  "kernelspec": {
   "display_name": "Python 3.6.13 ('AttnMove')",
   "language": "python",
   "name": "python3"
  },
  "language_info": {
   "codemirror_mode": {
    "name": "ipython",
    "version": 3
   },
   "file_extension": ".py",
   "mimetype": "text/x-python",
   "name": "python",
   "nbconvert_exporter": "python",
   "pygments_lexer": "ipython3",
   "version": "3.6.13"
  },
  "orig_nbformat": 4,
  "vscode": {
   "interpreter": {
    "hash": "e2df17bf388c13c46faedee01ce940fe024e6ed539f00edac5b19515bb5331c9"
   }
  }
 },
 "nbformat": 4,
 "nbformat_minor": 2
}
